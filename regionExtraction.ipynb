{
 "cells": [
  {
   "cell_type": "code",
   "execution_count": 3,
   "metadata": {},
   "outputs": [],
   "source": [
    "from tqdm import tqdm_notebook\n",
    "import SimpleITK as sitk\n",
    "import numpy as np\n",
    "import re\n",
    "from os.path import join\n",
    "from os import listdir\n",
    "from random import shuffle, sample"
   ]
  },
  {
   "cell_type": "code",
   "execution_count": 4,
   "metadata": {},
   "outputs": [],
   "source": [
    "from matplotlib import pyplot as plt\n",
    "# Define a function to plot a batch or list of image patches in a grid\n",
    "def plot_image(images, images_per_row=8):\n",
    "    \n",
    "    fig, axs = plt.subplots(int(np.ceil(len(images)/images_per_row)), images_per_row)\n",
    "    \n",
    "    c = 0\n",
    "    for ax_row in axs:\n",
    "        for ax in ax_row:\n",
    "            if c < len(images):\n",
    "                ax.imshow(images[c])\n",
    "            ax.axis('off')            \n",
    "            c += 1\n",
    "    plt.show()"
   ]
  },
  {
   "cell_type": "code",
   "execution_count": 27,
   "metadata": {},
   "outputs": [],
   "source": [
    "dataDir = \"/projects/0/ismi2018/FINALPROJECTS/BREAST_THOMOSYNTHESIS\"\n",
    "\n",
    "def listCaseIDs(dataRoot):\n",
    "    cases = [f.replace(\".gtrt\",\"\") for f in listdir(join(dataRoot,\"gtrs\")) if \".gtrt\" in f]\n",
    "    return cases\n",
    "\n",
    "def getLabels(caseID,dataRoot):\n",
    "    filename = join(dataRoot,\"gtrs\",caseID+\".gtrt\")\n",
    "    annotation = open(filename,\"r\").read().split('\\n\\n')\n",
    "    regex = \"\\[\\n[\\d* \\d* \\d*\\n+]+\"\n",
    "    prog = re.compile(regex)\n",
    "    for ann in annotation:\n",
    "        if(\"contour\" in ann):\n",
    "            annRegion = prog.findall(ann)\n",
    "            annRegion = [item for r in annRegion for item in r.split(\"\\n\")[1:]]\n",
    "            annRegion = [[int(c) for c in cords.split()] for cords in annRegion if len(cords.split()) == 3]\n",
    "            annRegion = np.asarray(annRegion)\n",
    "        elif(\"points\" in ann):\n",
    "            annPoints = prog.findall(ann)\n",
    "            annPoints = [item for r in annPoints for item in r.split(\"\\n\")[1:]]\n",
    "            annPoints = [[int(c) for c in cords.split()] for cords in annPoints if len(cords.split()) == 3]\n",
    "            annPoints = np.asarray(annPoints)\n",
    "    return annRegion, annPoints\n",
    "\n",
    "def makeMask(caseID,dataRoot,dims=None):\n",
    "    anotationFileName = join(dataRoot,\"gtrs\",caseID+\".gtrt\")\n",
    "    points = getPoints(anotationFileName,dataRoot)\n",
    "    if(dims is None):\n",
    "        dims = np.max(points,axis=0) + 1\n",
    "    Mask = np.zeros(dims)\n",
    "    Mask[points[:,1],points[:,2],points[:,2]] = 1.0\n",
    "    return Mask\n",
    "\n",
    "def loadScan(caseID,dataRoot):\n",
    "    dataFolder = join(dataRoot,\"dataset\",\"t\" + caseID)\n",
    "    images = [f for f in listdir(dataFolder) if \".dcm\" in f]\n",
    "    images.sort(key=lambda x: float(x.replace(\".dcm\",\"\")))\n",
    "    \n",
    "    scan = np.zeros(getDims(caseID,dataRoot))\n",
    "    for i,f in enumerate(images):\n",
    "        image = sitk.ReadImage ( join(dataFolder,f) )\n",
    "        scan[:,:,i] = sitk.GetArrayFromImage(image)\n",
    "    return scan\n",
    "    \n",
    "def getDims(caseID,dataRoot):\n",
    "    dataFolder = join(dataRoot,\"dataset\",\"t\" + caseID)\n",
    "    images = [f for f in listdir(dataFolder) if \".dcm\" in f]\n",
    "    image = sitk.ReadImage ( join(dataFolder,images[0]) )\n",
    "    dims = image.GetSize()\n",
    "    dims = (dims[1],dims[0],len(images))\n",
    "    return dims\n",
    "\n",
    "def getregionMax(regions):\n",
    "    r_x = regions[:,0]\n",
    "    r_y = regions[:,1]\n",
    "    return np.min(r_x), np.max(r_x), np.min(r_y), np.max(r_y)\n",
    "\n",
    "\n",
    "def saveRegions(caseID, dataRoot, regions, points, boundingSize=50):\n",
    "    cases = [f.replace(\".dcm\",\"\") for f in listdir(join(dataRoot,\"dataset\", ''.join(['t',caseID]))) if \".dcm\" in f]\n",
    "    x_min, x_max, y_min, y_max = getregionMax(regions)\n",
    "    for point in points:\n",
    "        if str(point[2]) in cases:\n",
    "            # Extract region\n",
    "            image = sitk.ReadImage(join(dataRoot,\"dataset\", ''.join(['t',caseID]), ''.join([point[2],'.dcm'])))\n",
    "            image = sitk.GetArrayFromImage(image)\n",
    "            image = image[x_min:x_max, y_min:y_max]\n",
    "            print(image.shape)"
   ]
  },
  {
   "cell_type": "code",
   "execution_count": 28,
   "metadata": {
    "scrolled": false
   },
   "outputs": [
    {
     "name": "stdout",
     "output_type": "stream",
     "text": [
      "['0201074300mr', '0201077700cl', '0200714501cr', '0201079100cr', '0200526604ml', '0200904901cl', '0200893101cl', '0200701601mr', '0200893101ml', '0200687902mr', '0201073600mr', '0200963300ml', '0200671002cl', '0200526604cl', '0201082000cl', '0200926501cr', '0200953201cr', '0200895801mr', '0200693202mr', '0200963300cl', '0200951601ml', '0200917001cr', '0201078400mr', '0201082000ml', '0200414603cl', '0200677803cr', '0201082500mr', '0200890501cl', '0200693902mr', '0201073400cr', '0200890201mr', '0201077700ml', '0200536302cl', '0200960700cl', '0200953301cl', '0201076200cr', '0200693202cr', '0200967900ml', '0200951601cl', '0200710001cr', '0200953301ml', '0200677803mr', '0201073400mr', '0200921801cr', '0200890501ml', '0200962800cr', '0201078400cr', '0201073600cr', '0200710601ml', '0200486702mr', '0200710001mr', '0200641303cl', '0201075300ml', '0200888101cl', '0200917001mr', '0200671302cr', '0200916201ml', '0200697901ml', '0200713701cr', '0200952801mr', '0201079100mr', '0200713701mr', '0200960700ml', '0200671002ml', '0200486702cr', '0200888101ml', '0200958600mr', '0200890801cl', '0200921801mr', '0200916201cl', '0200952801cr', '0201074800cl', '0200678502ml', '0200714501mr', '0200890801ml', '0201082500cr', '0200933501mr', '0201076200mr', '0201074800ml', '0200893701ml', '0200646802ml', '0200893701cl', '0200700301mr', '0200701601cr', '0200924501mr', '0200962800mr', '0200414603ml', '0200904901ml', '0200924501cr', '0200693902cr', '0201074300cr', '0200930401ml', '0200958600cr', '0200641303ml', '0200895801cr', '0200671302mr', '0200710601cl', '0200536302ml', '0200967900cl', '0200935101mr', '0200933501cr', '0200930401cl', '0200920401mr', '0200963600mr', '0200935101cr', '0200717701mr', '0201073800mr', '0200890201cr', '0200678502cl', '0200926501mr', '0201073800cr', '0200953201mr', '0200717701cr', '0200963600cr']\n",
      "20\n",
      "['24', '61', '10', '56', '35', '8', '13', '16', '34', '47', '22', '18', '27', '19', '46', '38', '42', '32', '12', '23', '9', '54', '51', '39', '1', '25', '44', '3', '29', '11', '26', '28', '41', '4', '58', '30', '37', '49', '14', '36', '17', '62', '52', '48', '55', '5', '33', '15', '43', '53', '45', '20', '60', '6', '50', '31', '7', '40', '57', '59', '2', '21']\n"
     ]
    },
    {
     "ename": "TypeError",
     "evalue": "sequence item 0: expected str instance, numpy.int64 found",
     "output_type": "error",
     "traceback": [
      "\u001b[0;31m---------------------------------------------------------------------------\u001b[0m",
      "\u001b[0;31mTypeError\u001b[0m                                 Traceback (most recent call last)",
      "\u001b[0;32m<ipython-input-28-7847f3d2d283>\u001b[0m in \u001b[0;36m<module>\u001b[0;34m()\u001b[0m\n\u001b[1;32m      2\u001b[0m \u001b[0mprint\u001b[0m\u001b[0;34m(\u001b[0m\u001b[0mids\u001b[0m\u001b[0;34m)\u001b[0m\u001b[0;34m\u001b[0m\u001b[0m\n\u001b[1;32m      3\u001b[0m \u001b[0mregions\u001b[0m\u001b[0;34m,\u001b[0m \u001b[0mpoints\u001b[0m \u001b[0;34m=\u001b[0m \u001b[0mgetLabels\u001b[0m\u001b[0;34m(\u001b[0m\u001b[0mids\u001b[0m\u001b[0;34m[\u001b[0m\u001b[0;36m2\u001b[0m\u001b[0;34m]\u001b[0m\u001b[0;34m,\u001b[0m\u001b[0mdataDir\u001b[0m\u001b[0;34m)\u001b[0m\u001b[0;34m\u001b[0m\u001b[0m\n\u001b[0;32m----> 4\u001b[0;31m \u001b[0msaveRegions\u001b[0m\u001b[0;34m(\u001b[0m\u001b[0mids\u001b[0m\u001b[0;34m[\u001b[0m\u001b[0;36m0\u001b[0m\u001b[0;34m]\u001b[0m\u001b[0;34m,\u001b[0m \u001b[0mdataDir\u001b[0m\u001b[0;34m,\u001b[0m \u001b[0mregions\u001b[0m\u001b[0;34m,\u001b[0m \u001b[0mpoints\u001b[0m\u001b[0;34m)\u001b[0m\u001b[0;34m\u001b[0m\u001b[0m\n\u001b[0m\u001b[1;32m      5\u001b[0m \u001b[0;34m\u001b[0m\u001b[0m\n\u001b[1;32m      6\u001b[0m \u001b[0;34m\u001b[0m\u001b[0m\n",
      "\u001b[0;32m<ipython-input-27-afbf1ea34b21>\u001b[0m in \u001b[0;36msaveRegions\u001b[0;34m(caseID, dataRoot, regions, points, boundingSize)\u001b[0m\n\u001b[1;32m     65\u001b[0m         \u001b[0;32mif\u001b[0m \u001b[0mstr\u001b[0m\u001b[0;34m(\u001b[0m\u001b[0mpoint\u001b[0m\u001b[0;34m[\u001b[0m\u001b[0;36m2\u001b[0m\u001b[0;34m]\u001b[0m\u001b[0;34m)\u001b[0m \u001b[0;32min\u001b[0m \u001b[0mcases\u001b[0m\u001b[0;34m:\u001b[0m\u001b[0;34m\u001b[0m\u001b[0m\n\u001b[1;32m     66\u001b[0m             \u001b[0;31m# Extract region\u001b[0m\u001b[0;34m\u001b[0m\u001b[0;34m\u001b[0m\u001b[0m\n\u001b[0;32m---> 67\u001b[0;31m             \u001b[0mimage\u001b[0m \u001b[0;34m=\u001b[0m \u001b[0msitk\u001b[0m\u001b[0;34m.\u001b[0m\u001b[0mReadImage\u001b[0m\u001b[0;34m(\u001b[0m\u001b[0mjoin\u001b[0m\u001b[0;34m(\u001b[0m\u001b[0mdataRoot\u001b[0m\u001b[0;34m,\u001b[0m\u001b[0;34m\"dataset\"\u001b[0m\u001b[0;34m,\u001b[0m \u001b[0;34m''\u001b[0m\u001b[0;34m.\u001b[0m\u001b[0mjoin\u001b[0m\u001b[0;34m(\u001b[0m\u001b[0;34m[\u001b[0m\u001b[0;34m't'\u001b[0m\u001b[0;34m,\u001b[0m\u001b[0mcaseID\u001b[0m\u001b[0;34m]\u001b[0m\u001b[0;34m)\u001b[0m\u001b[0;34m,\u001b[0m \u001b[0;34m''\u001b[0m\u001b[0;34m.\u001b[0m\u001b[0mjoin\u001b[0m\u001b[0;34m(\u001b[0m\u001b[0;34m[\u001b[0m\u001b[0mpoint\u001b[0m\u001b[0;34m[\u001b[0m\u001b[0;36m2\u001b[0m\u001b[0;34m]\u001b[0m\u001b[0;34m,\u001b[0m\u001b[0;34m'.dcm'\u001b[0m\u001b[0;34m]\u001b[0m\u001b[0;34m)\u001b[0m\u001b[0;34m)\u001b[0m\u001b[0;34m)\u001b[0m\u001b[0;34m\u001b[0m\u001b[0m\n\u001b[0m\u001b[1;32m     68\u001b[0m             \u001b[0mimage\u001b[0m \u001b[0;34m=\u001b[0m \u001b[0msitk\u001b[0m\u001b[0;34m.\u001b[0m\u001b[0mGetArrayFromImage\u001b[0m\u001b[0;34m(\u001b[0m\u001b[0mimage\u001b[0m\u001b[0;34m)\u001b[0m\u001b[0;34m\u001b[0m\u001b[0m\n\u001b[1;32m     69\u001b[0m             \u001b[0mimage\u001b[0m \u001b[0;34m=\u001b[0m \u001b[0mimage\u001b[0m\u001b[0;34m[\u001b[0m\u001b[0mx_min\u001b[0m\u001b[0;34m:\u001b[0m\u001b[0mx_max\u001b[0m\u001b[0;34m,\u001b[0m \u001b[0my_min\u001b[0m\u001b[0;34m:\u001b[0m\u001b[0my_max\u001b[0m\u001b[0;34m]\u001b[0m\u001b[0;34m\u001b[0m\u001b[0m\n",
      "\u001b[0;31mTypeError\u001b[0m: sequence item 0: expected str instance, numpy.int64 found"
     ]
    }
   ],
   "source": [
    "ids = listCaseIDs(dataDir)\n",
    "print(ids)\n",
    "regions, points = getLabels(ids[2],dataDir)\n",
    "saveRegions(ids[0], dataDir, regions, points)\n",
    "\n",
    "\n",
    "\n",
    "#Loop door de Z van points. Als er een calc aangegeven is, sla de regio op.\n"
   ]
  },
  {
   "cell_type": "code",
   "execution_count": 49,
   "metadata": {},
   "outputs": [],
   "source": []
  },
  {
   "cell_type": "code",
   "execution_count": null,
   "metadata": {},
   "outputs": [],
   "source": []
  }
 ],
 "metadata": {
  "kernelspec": {
   "display_name": "Python 3",
   "language": "python",
   "name": "python3"
  },
  "language_info": {
   "codemirror_mode": {
    "name": "ipython",
    "version": 3
   },
   "file_extension": ".py",
   "mimetype": "text/x-python",
   "name": "python",
   "nbconvert_exporter": "python",
   "pygments_lexer": "ipython3",
   "version": "3.6.3"
  }
 },
 "nbformat": 4,
 "nbformat_minor": 2
}
