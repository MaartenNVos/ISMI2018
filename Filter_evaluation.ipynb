{
 "cells": [
  {
   "cell_type": "code",
   "execution_count": 2,
   "metadata": {},
   "outputs": [],
   "source": [
    "import numpy as np\n",
    "from sklearn import metrics\n",
    "import matplotlib.pyplot as plt"
   ]
  },
  {
   "cell_type": "code",
   "execution_count": 3,
   "metadata": {},
   "outputs": [],
   "source": [
    "def evaluate_filter(filtered_image, mask, visualize=False):\n",
    "   \n",
    "    #Pad the mask, to corresponds with te filtered image shape\n",
    "    padded_mask = zeros(filtered_image.shape)\n",
    "    padded_mask[:mask.shape[0],:mask.shape[1],:mask.shape[2]] = mask\n",
    "    \n",
    "    # Compute the roc curve and the area under the curve\n",
    "    fpr, tpr, thresholds_roc = metrics.roc_curve(padded_mask, filtered_image)\n",
    "    auc = metrics.auc(fpr, tpr)\n",
    "    \n",
    "    # Compute the precision and recall and average precision score\n",
    "    precision, recall, thresholds_pr = metrics.precision_recall_curve(padded_mask, filtered_image)\n",
    "    average_precision = metrics.average_precision_score(padded_mask,filtered_image)\n",
    "    \n",
    "    #Get the best threshold, recall > 0.95 and best precision\n",
    "    recall_indices = np.where(recall > 0.95)\n",
    "    index = np.argmax(precision[recall_indices])\n",
    "    best_index = recall_indices[index]\n",
    "    best_threshold = thresholds_pr[best_index]\n",
    "    return best_treshold\n",
    "    \n",
    "    if(visualize):\n",
    "        #plot roc curve\n",
    "        plt.figure()\n",
    "        plt.plot(fpr, tpr, color='darkorange',\n",
    "                 label='ROC curve (area = %0.2f)' % auc)\n",
    "        plt.plot([0, 1], [0, 1], color='navy', lw=lw, linestyle='--')\n",
    "        plt.xlim([0.0, 1.0])\n",
    "        plt.ylim([0.0, 1.05])\n",
    "        plt.xlabel('False Positive Rate')\n",
    "        plt.ylabel('True Positive Rate')\n",
    "        plt.title('ROC curve')\n",
    "        plt.legend(loc=\"lower right\")\n",
    "        plt.show()\n",
    "\n",
    "        #plot precision recall curve\n",
    "        plt.step(recall, precision, color='b', alpha=0.2, where='post')\n",
    "        plt.fill_between(recall, precision, step='post', alpha=0.2, color='b')\n",
    "        plt.xlabel('Recall')\n",
    "        plt.ylabel('Precision')\n",
    "        plt.ylim([0.0, 1.05])\n",
    "        plt.xlim([0.0, 1.0])\n",
    "        plt.title('2-class Precision-Recall curve: AP={0:0.2f}'.format(average_precision))"
   ]
  }
 ],
 "metadata": {
  "kernelspec": {
   "display_name": "Python 3",
   "language": "python",
   "name": "python3"
  },
  "language_info": {
   "codemirror_mode": {
    "name": "ipython",
    "version": 3
   },
   "file_extension": ".py",
   "mimetype": "text/x-python",
   "name": "python",
   "nbconvert_exporter": "python",
   "pygments_lexer": "ipython3",
   "version": "3.5.2"
  }
 },
 "nbformat": 4,
 "nbformat_minor": 2
}
